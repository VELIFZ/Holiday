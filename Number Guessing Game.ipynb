{
 "cells": [
  {
   "cell_type": "code",
   "execution_count": 9,
   "id": "1e4971c6",
   "metadata": {},
   "outputs": [],
   "source": [
    "import random\n",
    "import time"
   ]
  },
  {
   "cell_type": "code",
   "execution_count": 10,
   "id": "faacf3e7",
   "metadata": {},
   "outputs": [
    {
     "name": "stdout",
     "output_type": "stream",
     "text": [
      "**********\n",
      "Number Guessing Game\n",
      "\n",
      "Guess a number between 1 and 1000.\n",
      "\n",
      "***********\n",
      "Your Guess: k\n",
      "Your input must be an integer.\n",
      "Your Guess: 500\n",
      "Checking your answer...\n",
      "Please enter a higher number.\n",
      "Your Guess: 750\n",
      "Checking your answer...\n",
      "Please enter a higher number.\n",
      "Your Guess: 875\n",
      "Checking your answer...\n",
      "Please enter a higher number.\n",
      "Your Guess: 930\n",
      "Checking your answer...\n",
      "Please enter a higher number.\n",
      "Your Guess: 965\n",
      "Checking your answer...\n",
      "Please enter a higher number.\n",
      "Your Guess: 985\n",
      "Checking your answer...\n",
      "Please enter a lower number\n",
      "Your Guess: 970\n",
      "Checking your answer...\n",
      "Please enter a higher number.\n",
      "Your Guess: 980\n",
      "Checking your answer...\n",
      "Please enter a higher number.\n",
      "Your Guess: 983\n",
      "Checking your answer...\n",
      "Please enter a higher number.\n",
      "Your Guess: 984\n",
      "Checking your answer...\n",
      "Congrats! You guessed right. 984\n"
     ]
    }
   ],
   "source": [
    "print(\"\"\"**********\n",
    "Number Guessing Game\n",
    "\n",
    "Guess a number between 1 and 1000.\n",
    "\n",
    "***********\"\"\")\n",
    "\n",
    "rand_num = random.randint(1, 1000)\n",
    "\n",
    "max_guessing = 12\n",
    "\n",
    "while True:\n",
    "    try:\n",
    "        guess = int(input(\"Your Guess: \"))\n",
    "\n",
    "        if (guess < rand_num):\n",
    "            print(\"Checking your answer...\")\n",
    "            time.sleep(1)\n",
    "            print(\"Please enter a higher number.\")\n",
    "            max_guessing -= 1\n",
    "\n",
    "        elif (guess > rand_num):\n",
    "            print(\"Checking your answer...\")\n",
    "            time.sleep(1)\n",
    "            print(\"Please enter a lower number\")\n",
    "            max_guessing -= 1\n",
    "\n",
    "        else:\n",
    "            print(\"Checking your answer...\")\n",
    "            time.sleep(1)\n",
    "            print(\"Congrats! You guessed right.\", rand_num)\n",
    "            break\n",
    "\n",
    "        if (max_guessing == 0):\n",
    "            print(\"Sorry! You reached 12 guess.\")\n",
    "            print('The number:', rand_num)\n",
    "            break\n",
    "        \n",
    "    # kac tane tahmin hakkim kaldigini nasil yazabilirim?\n",
    "    \n",
    "    except ValueError:\n",
    "        print('Your input must be an integer.')"
   ]
  },
  {
   "cell_type": "code",
   "execution_count": null,
   "id": "00a7a8ef",
   "metadata": {},
   "outputs": [],
   "source": []
  }
 ],
 "metadata": {
  "kernelspec": {
   "display_name": "Python 3 (ipykernel)",
   "language": "python",
   "name": "python3"
  },
  "language_info": {
   "codemirror_mode": {
    "name": "ipython",
    "version": 3
   },
   "file_extension": ".py",
   "mimetype": "text/x-python",
   "name": "python",
   "nbconvert_exporter": "python",
   "pygments_lexer": "ipython3",
   "version": "3.9.7"
  }
 },
 "nbformat": 4,
 "nbformat_minor": 5
}
